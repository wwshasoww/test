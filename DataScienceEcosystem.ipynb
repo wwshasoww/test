{
  "metadata": {
    "kernelspec": {
      "name": "python",
      "display_name": "Python (Pyodide)",
      "language": "python"
    },
    "language_info": {
      "codemirror_mode": {
        "name": "python",
        "version": 3
      },
      "file_extension": ".py",
      "mimetype": "text/x-python",
      "name": "python",
      "nbconvert_exporter": "python",
      "pygments_lexer": "ipython3",
      "version": "3.8"
    }
  },
  "nbformat_minor": 5,
  "nbformat": 4,
  "cells": [
    {
      "id": "535a2af4-045a-436a-9fd1-4993f2ec942e",
      "cell_type": "markdown",
      "source": "# Data Science Tools and Ecosystem",
      "metadata": {}
    },
    {
      "id": "37edc4e9-2bc1-42d3-adf4-28bb2b258adf",
      "cell_type": "markdown",
      "source": "In this notebook, Data Science Tools and Ecosystem are summarized.",
      "metadata": {}
    },
    {
      "id": "5237b03e-fe81-49db-af52-30e06aa5aee6",
      "cell_type": "markdown",
      "source": "## Some of the popular languages that Data Scientists use are:",
      "metadata": {}
    },
    {
      "id": "68423a05-48e6-41a0-90a2-ee4414fe8e41",
      "cell_type": "markdown",
      "source": "1. PYTHON\n2. JAVA\n3. C++",
      "metadata": {}
    },
    {
      "id": "93de30b8-eaa8-4916-8425-064ac035700c",
      "cell_type": "markdown",
      "source": "## Some of the commonly used libraries used by Data Scientists include:",
      "metadata": {}
    },
    {
      "id": "83912822-66d7-4949-a7ed-99c8ec26b965",
      "cell_type": "markdown",
      "source": "1. NUMPY\n2. PANDAS\n3. MATPLOTLIB",
      "metadata": {}
    },
    {
      "id": "5ff6b641-8ea6-4ab6-aaf4-80e37421bdc7",
      "cell_type": "markdown",
      "source": "|Data Science Tools|\n|------------------|\n|JUPYTER NOTEBOOK|\n|ANACONDA|\n|RSTUDIO|",
      "metadata": {}
    },
    {
      "id": "743acfb1-95ec-4747-b90f-492f608e3807",
      "cell_type": "markdown",
      "source": "### Below are a few examples of evaluating arithmetic expressions in Python",
      "metadata": {}
    },
    {
      "id": "b0e3b376-3987-419d-9ffb-4f7dcb5b73c1",
      "cell_type": "markdown",
      "source": "+ This a simple arithmetic expression to mutiply then add integers.",
      "metadata": {}
    },
    {
      "id": "0d05702b-cbbf-4f81-8749-5ef385b799aa",
      "cell_type": "code",
      "source": "(3*4)+5",
      "metadata": {
        "trusted": true
      },
      "outputs": [
        {
          "execution_count": 22,
          "output_type": "execute_result",
          "data": {
            "text/plain": "17"
          },
          "metadata": {}
        }
      ],
      "execution_count": 22
    },
    {
      "id": "f3073710-5300-41a1-9953-ea3d1335f147",
      "cell_type": "markdown",
      "source": "+ This will convert 200 minutes to hours by diving by 60",
      "metadata": {}
    },
    {
      "id": "2ddbea0c-49d1-4880-a457-fcf17430dd70",
      "cell_type": "code",
      "source": "200/60",
      "metadata": {
        "trusted": true
      },
      "outputs": [
        {
          "execution_count": 23,
          "output_type": "execute_result",
          "data": {
            "text/plain": "3.3333333333333335"
          },
          "metadata": {}
        }
      ],
      "execution_count": 23
    },
    {
      "id": "bf9487aa-0ceb-47ba-bb38-b50cc8066d89",
      "cell_type": "markdown",
      "source": "**Objectives:**\n+ Some of the popular languages that Data Scientists\n+ Some of the commonly used libraries used by Data Scientists\n+ Data Science tools",
      "metadata": {}
    },
    {
      "id": "eac45d80-1954-4307-aae0-3eb4d2cb526c",
      "cell_type": "markdown",
      "source": "## Author",
      "metadata": {}
    },
    {
      "id": "ec1d6204-047a-41c1-8492-a07caa10c0d3",
      "cell_type": "markdown",
      "source": "Manuel Garcia",
      "metadata": {}
    },
    {
      "id": "3c5b8c48-a771-4b5d-843b-d833db7a0b44",
      "cell_type": "markdown",
      "source": "",
      "metadata": {}
    }
  ]
}